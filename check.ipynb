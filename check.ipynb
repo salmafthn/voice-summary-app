{
 "cells": [
  {
   "cell_type": "code",
   "execution_count": 1,
   "id": "2913b4ae",
   "metadata": {},
   "outputs": [
    {
     "name": "stderr",
     "output_type": "stream",
     "text": [
      "d:\\voice-summary-app\\.venv\\Lib\\site-packages\\tqdm\\auto.py:21: TqdmWarning: IProgress not found. Please update jupyter and ipywidgets. See https://ipywidgets.readthedocs.io/en/stable/user_install.html\n",
      "  from .autonotebook import tqdm as notebook_tqdm\n"
     ]
    },
    {
     "name": "stdout",
     "output_type": "stream",
     "text": [
      "Loaded dataset with 42038 training examples and 10970 test examples.\n"
     ]
    }
   ],
   "source": [
    "from datasets import load_from_disk\n",
    "\n",
    "# Load the dataset\n",
    "dataset = load_from_disk(\"D:/voice-summary-app/data/dataset\")\n",
    "print(f\"Loaded dataset with {len(dataset['train'])} training examples and {len(dataset['test'])} test examples.\")\n"
   ]
  },
  {
   "cell_type": "code",
   "execution_count": 3,
   "id": "32435a52",
   "metadata": {},
   "outputs": [
    {
     "name": "stdout",
     "output_type": "stream",
     "text": [
      "Jumlah file JSON di folder 'D:/voice-summary-app/data/train': 34284\n",
      "Jumlah file JSON di folder 'D:/voice-summary-app/data/test': 7346\n",
      "Jumlah file JSON di folder 'D:/voice-summary-app/data/dev': 7348\n",
      "Jumlah total file JSON: 48978\n"
     ]
    }
   ],
   "source": [
    "import os\n",
    "\n",
    "# Tentukan folder yang berisi file JSON\n",
    "folder_path_train = \"D:/voice-summary-app/data/train\"\n",
    "folder_path_test = \"D:/voice-summary-app/data/test\"\n",
    "folder_path_dev = \"D:/voice-summary-app/data/dev\"\n",
    "\n",
    "# Menghitung jumlah file JSON dalam ketiga folder\n",
    "json_files_train = [f for f in os.listdir(folder_path_train) if f.endswith(\".json\")]\n",
    "json_files_test = [f for f in os.listdir(folder_path_test) if f.endswith(\".json\")]\n",
    "json_files_dev = [f for f in os.listdir(folder_path_dev) if f.endswith(\".json\")]\n",
    "\n",
    "# Menghitung jumlah total file JSON dari ketiga folder\n",
    "total_json_files = len(json_files_train) + len(json_files_test) + len(json_files_dev)\n",
    "\n",
    "# Menampilkan jumlah file JSON\n",
    "print(f\"Jumlah file JSON di folder '{folder_path_train}': {len(json_files_train)}\")\n",
    "print(f\"Jumlah file JSON di folder '{folder_path_test}': {len(json_files_test)}\")\n",
    "print(f\"Jumlah file JSON di folder '{folder_path_dev}': {len(json_files_dev)}\")\n",
    "print(f\"Jumlah total file JSON: {total_json_files}\")\n"
   ]
  },
  {
   "cell_type": "code",
   "execution_count": 5,
   "id": "a1724459",
   "metadata": {},
   "outputs": [
    {
     "name": "stdout",
     "output_type": "stream",
     "text": [
      "Train files moved: 5000, Train files remaining: 29284\n",
      "Test files moved: 5000, Test files remaining: 2346\n",
      "Dev files moved: 5000, Dev files remaining: 2348\n"
     ]
    }
   ],
   "source": [
    "import os\n",
    "import json\n",
    "import shutil\n",
    "\n",
    "# Define folder paths\n",
    "train_folder = 'D:/voice-summary-app/data/train'\n",
    "test_folder = 'D:/voice-summary-app/data/test'\n",
    "dev_folder = 'D:/voice-summary-app/data/dev'\n",
    "\n",
    "dontpush_folder = 'D:/voice-summary-app/data/remaining'\n",
    "\n",
    "# Create dontpush folder if it doesn't exist\n",
    "if not os.path.exists(dontpush_folder):\n",
    "    os.makedirs(dontpush_folder)\n",
    "\n",
    "# Function to split files into subsets\n",
    "def split_files(source_folder, output_folder, limit=5000):\n",
    "    # List all files in the source folder\n",
    "    files = [f for f in os.listdir(source_folder) if f.endswith(\".json\")]\n",
    "    \n",
    "    # Determine how many files to move into each subset\n",
    "    files_to_move = files[:limit]\n",
    "    files_remaining = files[limit:]\n",
    "    \n",
    "    # Move the first 5000 files to the output folder\n",
    "    for file_name in files_to_move:\n",
    "        source_path = os.path.join(source_folder, file_name)\n",
    "        dest_path = os.path.join(output_folder, file_name)\n",
    "        shutil.move(source_path, dest_path)\n",
    "    \n",
    "    # Move remaining files to the dontpush folder\n",
    "    for file_name in files_remaining:\n",
    "        source_path = os.path.join(source_folder, file_name)\n",
    "        dest_path = os.path.join(dontpush_folder, file_name)\n",
    "        shutil.move(source_path, dest_path)\n",
    "\n",
    "    # Return number of files moved and remaining\n",
    "    return len(files_to_move), len(files_remaining)\n",
    "\n",
    "# Split files in train, test, and dev folders\n",
    "train_output_folder = 'D:/voice-summary-app/data/split/train'\n",
    "test_output_folder = 'D:/voice-summary-app/data/split/test'\n",
    "dev_output_folder = 'D:/voice-summary-app/data/split/dev'\n",
    "\n",
    "# Create output folders for train, test, and dev\n",
    "for folder in [train_output_folder, test_output_folder, dev_output_folder]:\n",
    "    if not os.path.exists(folder):\n",
    "        os.makedirs(folder)\n",
    "\n",
    "# Split the files\n",
    "train_moved, train_remaining = split_files(train_folder, train_output_folder)\n",
    "test_moved, test_remaining = split_files(test_folder, test_output_folder)\n",
    "dev_moved, dev_remaining = split_files(dev_folder, dev_output_folder)\n",
    "\n",
    "# Print result\n",
    "print(f\"Train files moved: {train_moved}, Train files remaining: {train_remaining}\")\n",
    "print(f\"Test files moved: {test_moved}, Test files remaining: {test_remaining}\")\n",
    "print(f\"Dev files moved: {dev_moved}, Dev files remaining: {dev_remaining}\")\n"
   ]
  },
  {
   "cell_type": "code",
   "execution_count": 6,
   "id": "971167a2",
   "metadata": {},
   "outputs": [
    {
     "ename": "ModuleNotFoundError",
     "evalue": "No module named 'indobenchmark'",
     "output_type": "error",
     "traceback": [
      "\u001b[31m---------------------------------------------------------------------------\u001b[39m",
      "\u001b[31mModuleNotFoundError\u001b[39m                       Traceback (most recent call last)",
      "\u001b[36mCell\u001b[39m\u001b[36m \u001b[39m\u001b[32mIn[6]\u001b[39m\u001b[32m, line 1\u001b[39m\n\u001b[32m----> \u001b[39m\u001b[32m1\u001b[39m \u001b[38;5;28;01mfrom\u001b[39;00m\u001b[38;5;250m \u001b[39m\u001b[34;01mindobenchmark\u001b[39;00m\u001b[38;5;250m \u001b[39m\u001b[38;5;28;01mimport\u001b[39;00m IndoNLGTokenizer\n",
      "\u001b[31mModuleNotFoundError\u001b[39m: No module named 'indobenchmark'"
     ]
    }
   ],
   "source": [
    "from indobenchmark import IndoNLGTokenizer\n"
   ]
  },
  {
   "cell_type": "code",
   "execution_count": null,
   "id": "c08e6059",
   "metadata": {},
   "outputs": [],
   "source": []
  }
 ],
 "metadata": {
  "kernelspec": {
   "display_name": ".venv",
   "language": "python",
   "name": "python3"
  },
  "language_info": {
   "codemirror_mode": {
    "name": "ipython",
    "version": 3
   },
   "file_extension": ".py",
   "mimetype": "text/x-python",
   "name": "python",
   "nbconvert_exporter": "python",
   "pygments_lexer": "ipython3",
   "version": "3.11.8"
  }
 },
 "nbformat": 4,
 "nbformat_minor": 5
}
